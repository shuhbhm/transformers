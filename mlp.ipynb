{
 "cells": [
  {
   "cell_type": "code",
   "execution_count": 2,
   "metadata": {},
   "outputs": [],
   "source": [
    "import random\n",
    "from value import Value"
   ]
  },
  {
   "cell_type": "code",
   "execution_count": 72,
   "metadata": {},
   "outputs": [],
   "source": [
    "class Neuron:\n",
    "    def __init__(self,nin):\n",
    "        self.w = [random.uniform(-1,1) for i in range(nin)]\n",
    "        self.b = Value(random.uniform(-1,1))\n",
    "        \n",
    "    def __call__(self,x):\n",
    "        #  w*x +b\n",
    "        z = (sum([wi*xi for wi,xi in zip(self.w,x)],self.b))\n",
    "        op = z#.tanh()\n",
    "        return op\n",
    "    \n",
    "    \n",
    "class Layer:\n",
    "    def __init__(self,nin,nout):\n",
    "        self.neurons = [Neuron(nin) for i in range(nout)]\n",
    "        \n",
    "    def __call__(self,x):\n",
    "        z = [n(x) for n in self.neurons]\n",
    "        return z\n",
    "        \n",
    "        \n",
    "class MLP:\n",
    "    def __init__(self,nin,nouts): \n",
    "        \"\"\"\n",
    "        nin is the no of the inputs \n",
    "        and nouts is the list of layers with thier respective no. of neurons in them\n",
    "        \"\"\"\n",
    "        self.sz = [nin] + nouts\n",
    "        self.layers = [Layer(self.sz[i] , self.sz[i+1]) for i in range(len(nouts))]\n",
    "        \n",
    "    def __call__(self,x):\n",
    "        for layer in self.layers:\n",
    "            x = layer(x)\n",
    "        return x[0] if len(x) == 1 else x"
   ]
  },
  {
   "cell_type": "code",
   "execution_count": 73,
   "metadata": {},
   "outputs": [],
   "source": [
    "x = [1,2,3]\n",
    "n = Neuron(3)"
   ]
  },
  {
   "cell_type": "code",
   "execution_count": 74,
   "metadata": {},
   "outputs": [
    {
     "data": {
      "text/plain": [
       "Value(data=4.1353075422908185)"
      ]
     },
     "execution_count": 74,
     "metadata": {},
     "output_type": "execute_result"
    }
   ],
   "source": [
    "n(x)"
   ]
  },
  {
   "cell_type": "code",
   "execution_count": 75,
   "metadata": {},
   "outputs": [],
   "source": [
    "l = Layer(3,2)"
   ]
  },
  {
   "cell_type": "code",
   "execution_count": 76,
   "metadata": {},
   "outputs": [
    {
     "data": {
      "text/plain": [
       "[Value(data=-3.548957054358246), Value(data=3.9542420228054707)]"
      ]
     },
     "execution_count": 76,
     "metadata": {},
     "output_type": "execute_result"
    }
   ],
   "source": [
    "l(x)"
   ]
  },
  {
   "cell_type": "code",
   "execution_count": 77,
   "metadata": {},
   "outputs": [],
   "source": [
    "model = MLP(3,[3,2,1])"
   ]
  },
  {
   "cell_type": "code",
   "execution_count": 78,
   "metadata": {},
   "outputs": [
    {
     "data": {
      "text/plain": [
       "Value(data=1.8603546019330217)"
      ]
     },
     "execution_count": 78,
     "metadata": {},
     "output_type": "execute_result"
    }
   ],
   "source": [
    "model(x)"
   ]
  },
  {
   "cell_type": "code",
   "execution_count": null,
   "metadata": {},
   "outputs": [],
   "source": []
  }
 ],
 "metadata": {
  "kernelspec": {
   "display_name": "transformer",
   "language": "python",
   "name": "python3"
  },
  "language_info": {
   "codemirror_mode": {
    "name": "ipython",
    "version": 3
   },
   "file_extension": ".py",
   "mimetype": "text/x-python",
   "name": "python",
   "nbconvert_exporter": "python",
   "pygments_lexer": "ipython3",
   "version": "3.11.3"
  },
  "orig_nbformat": 4
 },
 "nbformat": 4,
 "nbformat_minor": 2
}
