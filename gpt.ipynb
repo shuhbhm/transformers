{
  "cells": [
    {
      "cell_type": "code",
      "execution_count": 4,
      "metadata": {
        "colab": {
          "base_uri": "https://localhost:8080/"
        },
        "id": "hS4KCK2X4leX",
        "outputId": "664ba909-9012-474d-eed5-125f97a65260"
      },
      "outputs": [
        {
          "name": "stdout",
          "output_type": "stream",
          "text": [
            "--2023-06-12 09:14:34--  https://raw.githubusercontent.com/karpathy/char-rnn/master/data/tinyshakespeare/input.txt\n",
            "Resolving raw.githubusercontent.com (raw.githubusercontent.com)... 185.199.108.133, 185.199.111.133, 185.199.110.133, ...\n",
            "Connecting to raw.githubusercontent.com (raw.githubusercontent.com)|185.199.108.133|:443... connected.\n",
            "HTTP request sent, awaiting response... 200 OK\n",
            "Length: 1115394 (1.1M) [text/plain]\n",
            "Saving to: ‘input.txt’\n",
            "\n",
            "\rinput.txt             0%[                    ]       0  --.-KB/s               \rinput.txt           100%[===================>]   1.06M  --.-KB/s    in 0.05s   \n",
            "\n",
            "2023-06-12 09:14:35 (20.1 MB/s) - ‘input.txt’ saved [1115394/1115394]\n",
            "\n"
          ]
        }
      ],
      "source": [
        "!wget 'https://raw.githubusercontent.com/karpathy/char-rnn/master/data/tinyshakespeare/input.txt'"
      ]
    },
    {
      "cell_type": "code",
      "execution_count": 5,
      "metadata": {
        "colab": {
          "base_uri": "https://localhost:8080/"
        },
        "id": "D1Xi6CuX4Woy",
        "outputId": "9b28eb2b-7bbb-4411-fc77-8459573ea5a3"
      },
      "outputs": [
        {
          "name": "stdout",
          "output_type": "stream",
          "text": [
            "1115394\n",
            "First Citizen:\n",
            "Before we proceed any further, hear me speak.\n",
            "\n",
            "All:\n",
            "Speak, speak.\n",
            "\n",
            "First Citizen:\n",
            "You are all resolved rather to die than to famish?\n",
            "\n",
            "All:\n",
            "Resolved. resolved.\n",
            "\n",
            "First Citizen:\n",
            "First, you know Caius Marcius is chief enemy to the people.\n",
            "\n",
            "All:\n",
            "We know't, we know't.\n",
            "\n",
            "First Citizen:\n",
            "Let us\n"
          ]
        }
      ],
      "source": [
        "with open ('input.txt','r',encoding='utf-8') as f:\n",
        "    text = f.read()\n",
        "    \n",
        "print(len(text))\n",
        "print(text[0:300])"
      ]
    },
    {
      "cell_type": "code",
      "execution_count": 6,
      "metadata": {
        "colab": {
          "base_uri": "https://localhost:8080/"
        },
        "id": "TA5ALI-74Wo0",
        "outputId": "f9c0e3f3-a1ed-40d2-f759-c963535601e3"
      },
      "outputs": [
        {
          "name": "stdout",
          "output_type": "stream",
          "text": [
            "\n",
            " !$&',-.3:;?ABCDEFGHIJKLMNOPQRSTUVWXYZabcdefghijklmnopqrstuvwxyz\n",
            "65\n"
          ]
        }
      ],
      "source": [
        "chars = sorted(list(set(text)))\n",
        "vocab_size = len(chars)\n",
        "print(\"\".join(chars))\n",
        "print(vocab_size)"
      ]
    },
    {
      "cell_type": "code",
      "execution_count": 7,
      "metadata": {
        "id": "lqhEPflp4Wo1"
      },
      "outputs": [],
      "source": [
        "# create a mapping from charecters to integers\n",
        "stoi = {ch:i for i,ch in enumerate(chars)} # str to int stoi\n",
        "itos = {i:ch for i,ch in enumerate(chars)}\n",
        "\n",
        "encode = lambda s : [stoi[ch] for ch in s]\n",
        "decode = lambda s : ''.join([itos[i] for i in s])"
      ]
    },
    {
      "cell_type": "code",
      "execution_count": 8,
      "metadata": {
        "colab": {
          "base_uri": "https://localhost:8080/"
        },
        "id": "XhpiR9WV4Wo1",
        "outputId": "f88e1ced-d335-41f0-fbce-588bc46df14c"
      },
      "outputs": [
        {
          "data": {
            "text/plain": [
              "[46, 47, 47, 1, 58, 46, 43, 56, 43]"
            ]
          },
          "execution_count": 8,
          "metadata": {},
          "output_type": "execute_result"
        }
      ],
      "source": [
        "encode('hii there')"
      ]
    },
    {
      "cell_type": "code",
      "execution_count": 9,
      "metadata": {
        "colab": {
          "base_uri": "https://localhost:8080/",
          "height": 35
        },
        "id": "znhJ5ZPA4Wo2",
        "outputId": "cfc74208-12e3-4f73-d5da-b4b72542c8fd"
      },
      "outputs": [
        {
          "data": {
            "application/vnd.google.colaboratory.intrinsic+json": {
              "type": "string"
            },
            "text/plain": [
              "'hii there'"
            ]
          },
          "execution_count": 9,
          "metadata": {},
          "output_type": "execute_result"
        }
      ],
      "source": [
        "decode([46, 47, 47, 1, 58, 46, 43, 56, 43])"
      ]
    },
    {
      "cell_type": "code",
      "execution_count": 13,
      "metadata": {
        "colab": {
          "base_uri": "https://localhost:8080/"
        },
        "id": "8O_jb_sW4Wo2",
        "outputId": "8ddeff5d-805c-459d-e9d9-fbededa5f8f8"
      },
      "outputs": [
        {
          "name": "stdout",
          "output_type": "stream",
          "text": [
            "torch.Size([1115394]) torch.int64\n",
            "tensor([18, 47, 56, 57, 58,  1, 15, 47, 58, 47, 64, 43, 52, 10,  0, 14, 43, 44,\n",
            "        53, 56, 43,  1, 61, 43,  1, 54, 56, 53, 41, 43, 43, 42,  1, 39, 52, 63,\n",
            "         1, 44, 59, 56, 58, 46, 43, 56,  6,  1, 46, 43, 39, 56,  1, 51, 43,  1,\n",
            "        57, 54, 43, 39, 49,  8,  0,  0, 13, 50, 50, 10,  0, 31, 54, 43, 39, 49,\n",
            "         6,  1, 57, 54, 43, 39, 49,  8,  0,  0, 18, 47, 56, 57, 58,  1, 15, 47,\n",
            "        58, 47, 64, 43, 52, 10,  0, 37, 53, 59,  1, 39, 56, 43,  1, 39, 50, 50,\n",
            "         1, 56, 43, 57, 53, 50, 60, 43, 42,  1, 56, 39, 58, 46, 43, 56,  1, 58,\n",
            "        53,  1, 42, 47, 43,  1, 58, 46, 39, 52,  1, 58, 53,  1, 44, 39, 51, 47,\n",
            "        57, 46, 12,  0,  0, 13, 50, 50, 10,  0, 30, 43, 57, 53, 50, 60, 43, 42,\n",
            "         8,  1, 56, 43, 57, 53, 50, 60, 43, 42,  8,  0,  0, 18, 47, 56, 57, 58,\n",
            "         1, 15, 47, 58, 47, 64, 43, 52, 10,  0, 18, 47, 56, 57, 58,  6,  1, 63,\n",
            "        53, 59,  1, 49, 52, 53, 61,  1, 15, 39, 47, 59, 57,  1, 25, 39, 56, 41,\n",
            "        47, 59, 57,  1, 47, 57,  1, 41, 46, 47, 43, 44,  1, 43, 52, 43, 51, 63,\n",
            "         1, 58, 53,  1, 58, 46, 43,  1, 54, 43, 53, 54, 50, 43,  8,  0,  0, 13,\n",
            "        50, 50, 10,  0, 35, 43,  1, 49, 52, 53, 61,  5, 58,  6,  1, 61, 43,  1,\n",
            "        49, 52, 53, 61,  5, 58,  8,  0,  0, 18, 47, 56, 57, 58,  1, 15, 47, 58,\n",
            "        47, 64, 43, 52, 10,  0, 24, 43, 58,  1, 59, 57])\n"
          ]
        }
      ],
      "source": [
        "import torch \n",
        "data = torch.tensor(encode(text) , dtype = torch.long)\n",
        "\n",
        "print(data.shape,data.dtype)\n",
        "print(data[0:300])"
      ]
    },
    {
      "cell_type": "code",
      "execution_count": 23,
      "metadata": {
        "id": "k0KAGkCp5PTB"
      },
      "outputs": [],
      "source": [
        "# splitting the data into train and test\n",
        "n = int(.9*len(data))\n",
        "train_data = data[:n]\n",
        "val_data = data[n:]"
      ]
    },
    {
      "cell_type": "code",
      "execution_count": 21,
      "metadata": {
        "id": "b6STgThI5rjq"
      },
      "outputs": [],
      "source": [
        "# context length\n",
        "block_size = 8"
      ]
    },
    {
      "cell_type": "code",
      "execution_count": 22,
      "metadata": {
        "colab": {
          "base_uri": "https://localhost:8080/"
        },
        "id": "HQ3WZ54l5vDZ",
        "outputId": "716fa8ca-7a7d-43e8-affa-782b38e0507c"
      },
      "outputs": [
        {
          "name": "stdout",
          "output_type": "stream",
          "text": [
            "the context : tensor([18]) and target : 47\n",
            "the context : tensor([18, 47]) and target : 56\n",
            "the context : tensor([18, 47, 56]) and target : 57\n",
            "the context : tensor([18, 47, 56, 57]) and target : 58\n",
            "the context : tensor([18, 47, 56, 57, 58]) and target : 1\n",
            "the context : tensor([18, 47, 56, 57, 58,  1]) and target : 15\n",
            "the context : tensor([18, 47, 56, 57, 58,  1, 15]) and target : 47\n",
            "the context : tensor([18, 47, 56, 57, 58,  1, 15, 47]) and target : 58\n"
          ]
        }
      ],
      "source": [
        "x = train_data[:block_size]\n",
        "y = train_data[1:block_size+1]\n",
        "for t in range(8):\n",
        "  context = x[:t+1]\n",
        "  target = y[t]\n",
        "  print(f'the context : {context} and target : {target}')"
      ]
    },
    {
      "cell_type": "code",
      "execution_count": 37,
      "metadata": {
        "colab": {
          "base_uri": "https://localhost:8080/"
        },
        "id": "pwNQCDd68DwC",
        "outputId": "0e182e3a-7695-4913-e292-9e00cb7e35cb"
      },
      "outputs": [
        {
          "name": "stdout",
          "output_type": "stream",
          "text": [
            "inputs : \n",
            "tensor([[24, 43, 58,  5, 57,  1, 46, 43],\n",
            "        [44, 53, 56,  1, 58, 46, 39, 58],\n",
            "        [52, 58,  1, 58, 46, 39, 58,  1],\n",
            "        [25, 17, 27, 10,  0, 21,  1, 54]])\n",
            "torch.Size([4, 8])\n",
            "output : \n",
            "tensor([[43, 58,  5, 57,  1, 46, 43, 39],\n",
            "        [53, 56,  1, 58, 46, 39, 58,  1],\n",
            "        [58,  1, 58, 46, 39, 58,  1, 46],\n",
            "        [17, 27, 10,  0, 21,  1, 54, 39]])\n",
            "torch.Size([4, 8])\n",
            "---\n",
            "when context is tensor([24]) the target is 43\n",
            "when context is tensor([24, 43]) the target is 58\n",
            "when context is tensor([24, 43, 58]) the target is 5\n",
            "when context is tensor([24, 43, 58,  5]) the target is 57\n",
            "when context is tensor([24, 43, 58,  5, 57]) the target is 1\n",
            "when context is tensor([24, 43, 58,  5, 57,  1]) the target is 46\n",
            "when context is tensor([24, 43, 58,  5, 57,  1, 46]) the target is 43\n",
            "when context is tensor([24, 43, 58,  5, 57,  1, 46, 43]) the target is 39\n",
            "when context is tensor([44]) the target is 53\n",
            "when context is tensor([44, 53]) the target is 56\n",
            "when context is tensor([44, 53, 56]) the target is 1\n",
            "when context is tensor([44, 53, 56,  1]) the target is 58\n",
            "when context is tensor([44, 53, 56,  1, 58]) the target is 46\n",
            "when context is tensor([44, 53, 56,  1, 58, 46]) the target is 39\n",
            "when context is tensor([44, 53, 56,  1, 58, 46, 39]) the target is 58\n",
            "when context is tensor([44, 53, 56,  1, 58, 46, 39, 58]) the target is 1\n",
            "when context is tensor([52]) the target is 58\n",
            "when context is tensor([52, 58]) the target is 1\n",
            "when context is tensor([52, 58,  1]) the target is 58\n",
            "when context is tensor([52, 58,  1, 58]) the target is 46\n",
            "when context is tensor([52, 58,  1, 58, 46]) the target is 39\n",
            "when context is tensor([52, 58,  1, 58, 46, 39]) the target is 58\n",
            "when context is tensor([52, 58,  1, 58, 46, 39, 58]) the target is 1\n",
            "when context is tensor([52, 58,  1, 58, 46, 39, 58,  1]) the target is 46\n",
            "when context is tensor([25]) the target is 17\n",
            "when context is tensor([25, 17]) the target is 27\n",
            "when context is tensor([25, 17, 27]) the target is 10\n",
            "when context is tensor([25, 17, 27, 10]) the target is 0\n",
            "when context is tensor([25, 17, 27, 10,  0]) the target is 21\n",
            "when context is tensor([25, 17, 27, 10,  0, 21]) the target is 1\n",
            "when context is tensor([25, 17, 27, 10,  0, 21,  1]) the target is 54\n",
            "when context is tensor([25, 17, 27, 10,  0, 21,  1, 54]) the target is 39\n"
          ]
        }
      ],
      "source": [
        "torch.manual_seed(1337)\n",
        "batch_size = 4\n",
        "block_size = 8\n",
        "\n",
        "\n",
        "def get_batch(split):\n",
        "  data = train_data if split=='train' else val_data\n",
        "  ix = torch.randint(len(data)-block_size , (batch_size,) )\n",
        "  x = torch.stack([data[i:i+block_size] for i in ix])\n",
        "  y = torch.stack([data[i+1:i+block_size+1] for i in ix])\n",
        "  return x,y\n",
        "\n",
        "\n",
        "xb , yb = get_batch('train')\n",
        "\n",
        "print('inputs : ')\n",
        "print(xb)\n",
        "print(xb.shape)\n",
        "\n",
        "print('output : ')\n",
        "print(yb)\n",
        "print(yb.shape)\n",
        "\n",
        "\n",
        "print('---')\n",
        "\n",
        "\n",
        "for b in range(batch_size):\n",
        "  for t in range(block_size):\n",
        "    context = xb[b,:t+1]\n",
        "    target = yb[b,t]\n",
        "    print(f'when context is {context} the target is {target}')"
      ]
    },
    {
      "cell_type": "code",
      "execution_count": 45,
      "metadata": {
        "colab": {
          "base_uri": "https://localhost:8080/"
        },
        "id": "_pariXVs9mRK",
        "outputId": "c3e04dbf-7910-4b1c-ce2a-08690068a0c7"
      },
      "outputs": [
        {
          "name": "stdout",
          "output_type": "stream",
          "text": [
            "torch.Size([32, 65])\n"
          ]
        }
      ],
      "source": [
        "import torch \n",
        "import torch.nn as nn\n",
        "from torch.nn import functional as F\n",
        "torch.manual_seed(1337)\n",
        "\n",
        "\n",
        "class BigramLanguageModel(nn.Module):\n",
        "  def __init__(self,vocab_size):\n",
        "    super().__init__()\n",
        "    # each token directly reads off the logits for the next token from a look up table\n",
        "    self.token_embedding_table = nn.Embedding(vocab_size, vocab_size)\n",
        "\n",
        "  def forward(self,idx,targets):\n",
        "    # idx is the inputs\n",
        "    # idx and targets are both [B,T] tensor of integers\n",
        "    logits = self.token_embedding_table(idx) # (B,T,C)\n",
        "    B,T,C = logits.shape\n",
        "    logits = logits.view(B*T , C)\n",
        "    targets = targets.view(B*T) # or targets.view(-1)\n",
        "\n",
        "    loss = F.cross_entropy(logits,targets)\n",
        "    return logits, loss\n",
        "\n",
        "m = BigramLanguageModel(vocab_size)\n",
        "logits, loss = m(xb,yb)\n",
        "print(logits.shape)"
      ]
    },
    {
      "cell_type": "code",
      "execution_count": 46,
      "metadata": {
        "colab": {
          "base_uri": "https://localhost:8080/"
        },
        "id": "eBhuBU6E9yVh",
        "outputId": "3f16c1c0-ab17-49de-cf9c-edcde7bcb6b1"
      },
      "outputs": [
        {
          "data": {
            "text/plain": [
              "tensor(4.8786, grad_fn=<NllLossBackward0>)"
            ]
          },
          "execution_count": 46,
          "metadata": {},
          "output_type": "execute_result"
        }
      ],
      "source": [
        "loss"
      ]
    },
    {
      "attachments": {},
      "cell_type": "markdown",
      "metadata": {
        "id": "UvU8pXxRFbRr"
      },
      "source": [
        "# stopped at 27 minutes of nanoGPT"
      ]
    },
    {
      "cell_type": "code",
      "execution_count": null,
      "metadata": {
        "id": "hr47bvWbFfCm"
      },
      "outputs": [],
      "source": []
    }
  ],
  "metadata": {
    "colab": {
      "provenance": []
    },
    "kernelspec": {
      "display_name": "brtms",
      "language": "python",
      "name": "python3"
    },
    "language_info": {
      "codemirror_mode": {
        "name": "ipython",
        "version": 3
      },
      "file_extension": ".py",
      "mimetype": "text/x-python",
      "name": "python",
      "nbconvert_exporter": "python",
      "pygments_lexer": "ipython3",
      "version": "3.10.11"
    },
    "orig_nbformat": 4
  },
  "nbformat": 4,
  "nbformat_minor": 0
}
